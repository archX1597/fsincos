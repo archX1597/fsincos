{
 "cells": [
  {
   "cell_type": "code",
   "execution_count": 2,
   "metadata": {},
   "outputs": [],
   "source": [
    "def generate_shifter(SHIFT_str,RESULT_str,WIDTH):\n",
    "    for i in range (0,WIDTH+1):\n",
    "     Lzd_extend = WIDTH+1-i;\n",
    "     print(\"6'd{}:{} = {{ {{{}{{{}[{}]}}}},{},{}'b0 }};\".format(i,RESULT_str,Lzd_extend,SHIFT_str,WIDTH,SHIFT_str,i))\n",
    "    print(\"default:\",RESULT_str,\"=\",'{',SHIFT_str,\",\",WIDTH+1,\"'b0\",\"}:\")\n",
    "\n",
    "def generate_shifter_R(SHIFT_str,RESULT_str,WIDTH):\n",
    "    for i in range (0,WIDTH):\n",
    "     Lzd_extend = WIDTH+i+1;\n",
    "     print(\"6'd{}:{} = {{ {{{}{{{}[{}]}}}},{}[{}:{}] }};\".format(i,RESULT_str,Lzd_extend,SHIFT_str,WIDTH,SHIFT_str,WIDTH-1,i))\n",
    "    print(\"default:{} = {{ {}'b0 }};\".format(RESULT_str,2*WIDTH+1))\n",
    "def generate_shifter_R_0(SHIFT_str,RESULT_str,WIDTH):\n",
    "    for i in range (0,WIDTH+1):\n",
    "     Lzd_extend = i;\n",
    "     print(\"8'd{}:{} = {{{}'b0,{}[{}:{}] }};\".format(i,RESULT_str,i,SHIFT_str,WIDTH,i))\n",
    "    print(\"default:{} = {{ {}'b0 }};\".format(RESULT_str,WIDTH+1))\n",
    "    "
   ]
  },
  {
   "cell_type": "code",
   "execution_count": 3,
   "metadata": {},
   "outputs": [
    {
     "name": "stdout",
     "output_type": "stream",
     "text": [
      "8'd0:far_esmall_op = {0'b0,far_esmall_toshift_op[39:0] };\n",
      "8'd1:far_esmall_op = {1'b0,far_esmall_toshift_op[39:1] };\n",
      "8'd2:far_esmall_op = {2'b0,far_esmall_toshift_op[39:2] };\n",
      "8'd3:far_esmall_op = {3'b0,far_esmall_toshift_op[39:3] };\n",
      "8'd4:far_esmall_op = {4'b0,far_esmall_toshift_op[39:4] };\n",
      "8'd5:far_esmall_op = {5'b0,far_esmall_toshift_op[39:5] };\n",
      "8'd6:far_esmall_op = {6'b0,far_esmall_toshift_op[39:6] };\n",
      "8'd7:far_esmall_op = {7'b0,far_esmall_toshift_op[39:7] };\n",
      "8'd8:far_esmall_op = {8'b0,far_esmall_toshift_op[39:8] };\n",
      "8'd9:far_esmall_op = {9'b0,far_esmall_toshift_op[39:9] };\n",
      "8'd10:far_esmall_op = {10'b0,far_esmall_toshift_op[39:10] };\n",
      "8'd11:far_esmall_op = {11'b0,far_esmall_toshift_op[39:11] };\n",
      "8'd12:far_esmall_op = {12'b0,far_esmall_toshift_op[39:12] };\n",
      "8'd13:far_esmall_op = {13'b0,far_esmall_toshift_op[39:13] };\n",
      "8'd14:far_esmall_op = {14'b0,far_esmall_toshift_op[39:14] };\n",
      "8'd15:far_esmall_op = {15'b0,far_esmall_toshift_op[39:15] };\n",
      "8'd16:far_esmall_op = {16'b0,far_esmall_toshift_op[39:16] };\n",
      "8'd17:far_esmall_op = {17'b0,far_esmall_toshift_op[39:17] };\n",
      "8'd18:far_esmall_op = {18'b0,far_esmall_toshift_op[39:18] };\n",
      "8'd19:far_esmall_op = {19'b0,far_esmall_toshift_op[39:19] };\n",
      "8'd20:far_esmall_op = {20'b0,far_esmall_toshift_op[39:20] };\n",
      "8'd21:far_esmall_op = {21'b0,far_esmall_toshift_op[39:21] };\n",
      "8'd22:far_esmall_op = {22'b0,far_esmall_toshift_op[39:22] };\n",
      "8'd23:far_esmall_op = {23'b0,far_esmall_toshift_op[39:23] };\n",
      "8'd24:far_esmall_op = {24'b0,far_esmall_toshift_op[39:24] };\n",
      "8'd25:far_esmall_op = {25'b0,far_esmall_toshift_op[39:25] };\n",
      "8'd26:far_esmall_op = {26'b0,far_esmall_toshift_op[39:26] };\n",
      "8'd27:far_esmall_op = {27'b0,far_esmall_toshift_op[39:27] };\n",
      "8'd28:far_esmall_op = {28'b0,far_esmall_toshift_op[39:28] };\n",
      "8'd29:far_esmall_op = {29'b0,far_esmall_toshift_op[39:29] };\n",
      "8'd30:far_esmall_op = {30'b0,far_esmall_toshift_op[39:30] };\n",
      "8'd31:far_esmall_op = {31'b0,far_esmall_toshift_op[39:31] };\n",
      "8'd32:far_esmall_op = {32'b0,far_esmall_toshift_op[39:32] };\n",
      "8'd33:far_esmall_op = {33'b0,far_esmall_toshift_op[39:33] };\n",
      "8'd34:far_esmall_op = {34'b0,far_esmall_toshift_op[39:34] };\n",
      "8'd35:far_esmall_op = {35'b0,far_esmall_toshift_op[39:35] };\n",
      "8'd36:far_esmall_op = {36'b0,far_esmall_toshift_op[39:36] };\n",
      "8'd37:far_esmall_op = {37'b0,far_esmall_toshift_op[39:37] };\n",
      "8'd38:far_esmall_op = {38'b0,far_esmall_toshift_op[39:38] };\n",
      "8'd39:far_esmall_op = {39'b0,far_esmall_toshift_op[39:39] };\n",
      "default:far_esmall_op = { 40'b0 };\n"
     ]
    }
   ],
   "source": [
    "generate_shifter_R_0(\"far_esmall_toshift_op\",\"far_esmall_op\",39)"
   ]
  },
  {
   "cell_type": "code",
   "execution_count": 7,
   "metadata": {},
   "outputs": [],
   "source": [
    "def generate_shifter_L_0(SHIFT_str,RESULT_str,WIDTH):\n",
    "    for i in range (0,WIDTH):\n",
    "     Lzd_extend = i;\n",
    "     print(\"8'd{}:{} = {{{}[{}:0],{}'b0 }};\".format(i,RESULT_str,SHIFT_str,WIDTH-1-i,i+1))\n",
    "    print(\"default:{} = {{ {}'b0 }};\".format(RESULT_str,WIDTH+1))"
   ]
  },
  {
   "cell_type": "code",
   "execution_count": 8,
   "metadata": {},
   "outputs": [
    {
     "name": "stdout",
     "output_type": "stream",
     "text": [
      "3'd0:TRANS_FRAC = {i_frac[31:31],1'b1,0'b0});\n",
      "3'd1:TRANS_FRAC = {i_frac[31:30],1'b1,1'b0});\n",
      "3'd2:TRANS_FRAC = {i_frac[31:29],1'b1,2'b0});\n",
      "3'd3:TRANS_FRAC = {i_frac[31:28],1'b1,3'b0});\n",
      "3'd4:TRANS_FRAC = {i_frac[31:27],1'b1,4'b0});\n",
      "3'd5:TRANS_FRAC = {i_frac[31:26],1'b1,5'b0});\n",
      "3'd6:TRANS_FRAC = {i_frac[31:25],1'b1,6'b0});\n"
     ]
    }
   ],
   "source": [
    "for i in range (0,7):\n",
    "    print(\"3'd{}:TRANS_FRAC = {{i_frac[31:{}],1'b1,{}'b0}});\".format(i,31-i,i))"
   ]
  },
  {
   "cell_type": "code",
   "execution_count": 9,
   "metadata": {},
   "outputs": [
    {
     "name": "stdout",
     "output_type": "stream",
     "text": [
      "8'd0:shifted_frac = {i_frac_a[30:0],1'b0 };\n",
      "8'd1:shifted_frac = {i_frac_a[29:0],2'b0 };\n",
      "8'd2:shifted_frac = {i_frac_a[28:0],3'b0 };\n",
      "8'd3:shifted_frac = {i_frac_a[27:0],4'b0 };\n",
      "8'd4:shifted_frac = {i_frac_a[26:0],5'b0 };\n",
      "8'd5:shifted_frac = {i_frac_a[25:0],6'b0 };\n",
      "8'd6:shifted_frac = {i_frac_a[24:0],7'b0 };\n",
      "8'd7:shifted_frac = {i_frac_a[23:0],8'b0 };\n",
      "8'd8:shifted_frac = {i_frac_a[22:0],9'b0 };\n",
      "8'd9:shifted_frac = {i_frac_a[21:0],10'b0 };\n",
      "8'd10:shifted_frac = {i_frac_a[20:0],11'b0 };\n",
      "8'd11:shifted_frac = {i_frac_a[19:0],12'b0 };\n",
      "8'd12:shifted_frac = {i_frac_a[18:0],13'b0 };\n",
      "8'd13:shifted_frac = {i_frac_a[17:0],14'b0 };\n",
      "8'd14:shifted_frac = {i_frac_a[16:0],15'b0 };\n",
      "8'd15:shifted_frac = {i_frac_a[15:0],16'b0 };\n",
      "8'd16:shifted_frac = {i_frac_a[14:0],17'b0 };\n",
      "8'd17:shifted_frac = {i_frac_a[13:0],18'b0 };\n",
      "8'd18:shifted_frac = {i_frac_a[12:0],19'b0 };\n",
      "8'd19:shifted_frac = {i_frac_a[11:0],20'b0 };\n",
      "8'd20:shifted_frac = {i_frac_a[10:0],21'b0 };\n",
      "8'd21:shifted_frac = {i_frac_a[9:0],22'b0 };\n",
      "8'd22:shifted_frac = {i_frac_a[8:0],23'b0 };\n",
      "8'd23:shifted_frac = {i_frac_a[7:0],24'b0 };\n",
      "8'd24:shifted_frac = {i_frac_a[6:0],25'b0 };\n",
      "8'd25:shifted_frac = {i_frac_a[5:0],26'b0 };\n",
      "8'd26:shifted_frac = {i_frac_a[4:0],27'b0 };\n",
      "8'd27:shifted_frac = {i_frac_a[3:0],28'b0 };\n",
      "8'd28:shifted_frac = {i_frac_a[2:0],29'b0 };\n",
      "8'd29:shifted_frac = {i_frac_a[1:0],30'b0 };\n",
      "8'd30:shifted_frac = {i_frac_a[0:0],31'b0 };\n",
      "default:shifted_frac = { 32'b0 };\n"
     ]
    }
   ],
   "source": [
    "generate_shifter_L_0(\"i_frac_a\",\"shifted_frac\",31)"
   ]
  }
 ],
 "metadata": {
  "kernelspec": {
   "display_name": "Python 3",
   "language": "python",
   "name": "python3"
  },
  "language_info": {
   "codemirror_mode": {
    "name": "ipython",
    "version": 3
   },
   "file_extension": ".py",
   "mimetype": "text/x-python",
   "name": "python",
   "nbconvert_exporter": "python",
   "pygments_lexer": "ipython3",
   "version": "3.8.10"
  }
 },
 "nbformat": 4,
 "nbformat_minor": 2
}
